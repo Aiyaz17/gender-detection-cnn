{
 "cells": [
  {
   "cell_type": "code",
   "execution_count": 1,
   "id": "683c049e",
   "metadata": {},
   "outputs": [
    {
     "ename": "ImportError",
     "evalue": "Unable to import required dependencies:\nnumpy: No module named 'numpy'",
     "output_type": "error",
     "traceback": [
      "\u001b[1;31m---------------------------------------------------------------------------\u001b[0m",
      "\u001b[1;31mImportError\u001b[0m                               Traceback (most recent call last)",
      "Cell \u001b[1;32mIn[1], line 1\u001b[0m\n\u001b[1;32m----> 1\u001b[0m \u001b[39mimport\u001b[39;00m \u001b[39mpandas\u001b[39;00m \u001b[39mas\u001b[39;00m \u001b[39mpd\u001b[39;00m\n\u001b[0;32m      2\u001b[0m \u001b[39mimport\u001b[39;00m \u001b[39mnumpy\u001b[39;00m \u001b[39mas\u001b[39;00m \u001b[39mnp\u001b[39;00m\n\u001b[0;32m      3\u001b[0m \u001b[39mimport\u001b[39;00m \u001b[39mos\u001b[39;00m\n",
      "File \u001b[1;32m~\\AppData\\Roaming\\Python\\Python310\\site-packages\\pandas\\__init__.py:16\u001b[0m\n\u001b[0;32m     13\u001b[0m         missing_dependencies\u001b[39m.\u001b[39mappend(\u001b[39mf\u001b[39m\u001b[39m\"\u001b[39m\u001b[39m{\u001b[39;00mdependency\u001b[39m}\u001b[39;00m\u001b[39m: \u001b[39m\u001b[39m{\u001b[39;00me\u001b[39m}\u001b[39;00m\u001b[39m\"\u001b[39m)\n\u001b[0;32m     15\u001b[0m \u001b[39mif\u001b[39;00m missing_dependencies:\n\u001b[1;32m---> 16\u001b[0m     \u001b[39mraise\u001b[39;00m \u001b[39mImportError\u001b[39;00m(\n\u001b[0;32m     17\u001b[0m         \u001b[39m\"\u001b[39m\u001b[39mUnable to import required dependencies:\u001b[39m\u001b[39m\\n\u001b[39;00m\u001b[39m\"\u001b[39m \u001b[39m+\u001b[39m \u001b[39m\"\u001b[39m\u001b[39m\\n\u001b[39;00m\u001b[39m\"\u001b[39m\u001b[39m.\u001b[39mjoin(missing_dependencies)\n\u001b[0;32m     18\u001b[0m     )\n\u001b[0;32m     19\u001b[0m \u001b[39mdel\u001b[39;00m hard_dependencies, dependency, missing_dependencies\n\u001b[0;32m     21\u001b[0m \u001b[39m# numpy compat\u001b[39;00m\n",
      "\u001b[1;31mImportError\u001b[0m: Unable to import required dependencies:\nnumpy: No module named 'numpy'"
     ]
    }
   ],
   "source": [
    "import pandas as pd\n",
    "import numpy as np\n",
    "import os\n",
    "import matplotlib.pyplot as plt \n",
    "import tensorflow as tf\n",
    "from tensorflow.keras.preprocessing.image import ImageDataGenerator\n",
    "from tensorflow.keras.layers import  Input,BatchNormalization,Conv2D,MaxPool2D,Flatten,Dense,Activation,Dropout\n",
    "from tensorflow.keras.models import Model\n",
    "from keras.callbacks import EarlyStopping,ModelCheckpoint"
   ]
  },
  {
   "cell_type": "code",
   "execution_count": 2,
   "id": "0e83042f",
   "metadata": {},
   "outputs": [],
   "source": [
    "training_data_path = \"../data/Training/\"\n",
    "testing_data_path =  \"../data/Validation/\""
   ]
  },
  {
   "cell_type": "markdown",
   "id": "5fa3b63e",
   "metadata": {},
   "source": [
    "#### Total number of classes and their counts"
   ]
  },
  {
   "cell_type": "code",
   "execution_count": 3,
   "id": "c849827f",
   "metadata": {},
   "outputs": [
    {
     "name": "stdout",
     "output_type": "stream",
     "text": [
      "Total Number of Classes : 2\n",
      "Classes Names : ['female', 'male']\n",
      "Total Male images : 23766\n",
      "Total Female images : 23243\n"
     ]
    }
   ],
   "source": [
    "class_names = sorted(os.listdir(training_data_path))\n",
    "\n",
    "number_of_male_images = len(os.listdir(training_data_path+\"male\"))\n",
    "number_of_female_images = len(os.listdir(training_data_path+\"female\"))\n",
    "\n",
    "print(\"Total Number of Classes :\",len(class_names))\n",
    "print(\"Classes Names :\",class_names)\n",
    "print(\"Total Male images :\",number_of_male_images)\n",
    "print(\"Total Female images :\",number_of_female_images)"
   ]
  },
  {
   "cell_type": "markdown",
   "id": "e7b7e5a2",
   "metadata": {},
   "source": [
    "#### Visualizing Distribution of both genders."
   ]
  },
  {
   "cell_type": "code",
   "execution_count": 4,
   "id": "7b00c7df",
   "metadata": {},
   "outputs": [
    {
     "data": {
      "text/plain": [
       "<function matplotlib.pyplot.show(close=None, block=None)>"
      ]
     },
     "execution_count": 4,
     "metadata": {},
     "output_type": "execute_result"
    },
    {
     "data": {
      "image/png": "[encoded data removed]",
      "text/plain": [
       "<Figure size 432x288 with 1 Axes>"
      ]
     },
     "metadata": {},
     "output_type": "display_data"
    }
   ],
   "source": [
    "plt.pie(np.array([number_of_female_images,number_of_male_images]),labels=class_names,autopct='%1.1f%%')\n",
    "plt.title('Gender Distribution')\n",
    "plt.show"
   ]
  },
  {
   "cell_type": "markdown",
   "id": "49bc0934",
   "metadata": {},
   "source": [
    "Checking distribution of Test data also"
   ]
  },
  {
   "cell_type": "code",
   "execution_count": 5,
   "id": "a047446e",
   "metadata": {},
   "outputs": [
    {
     "data": {
      "text/plain": [
       "<function matplotlib.pyplot.show(close=None, block=None)>"
      ]
     },
     "execution_count": 5,
     "metadata": {},
     "output_type": "execute_result"
    },
    {
     "data": {
      "image/png": "[encoded data removed]",
      "text/plain": [
       "<Figure size 432x288 with 1 Axes>"
      ]
     },
     "metadata": {},
     "output_type": "display_data"
    }
   ],
   "source": [
    "number_of_male_images_valid = len(os.listdir(testing_data_path+\"male\"))\n",
    "number_of_female_images_valid = len(os.listdir(testing_data_path+\"female\"))\n",
    "plt.pie(np.array([number_of_female_images_valid,number_of_male_images_valid]),labels=class_names,autopct='%1.1f%%')\n",
    "plt.title('Gender Distribution')\n",
    "plt.show"
   ]
  },
  {
   "cell_type": "markdown",
   "id": "8c7ba4c4",
   "metadata": {},
   "source": [
    "#### Using ImageDataGenerator to preprocess and prepare Data for training"
   ]
  },
  {
   "cell_type": "code",
   "execution_count": 6,
   "id": "776f29c1",
   "metadata": {},
   "outputs": [
    {
     "name": "stdout",
     "output_type": "stream",
     "text": [
      "Found 47009 images belonging to 2 classes.\n",
      "Found 11649 images belonging to 2 classes.\n"
     ]
    }
   ],
   "source": [
    "train_gen = ImageDataGenerator(rescale=1/255., rotation_range=10, horizontal_flip=True)\n",
    "\n",
    "valid_gen = ImageDataGenerator(rescale=1/255)\n",
    "\n",
    "# Load Data\n",
    "train_ds = train_gen.flow_from_directory(training_data_path, class_mode='binary', \n",
    "                                         target_size=(50,50), shuffle=True, \n",
    "                                         batch_size=80) \n",
    "\n",
    "valid_ds = valid_gen.flow_from_directory(testing_data_path, class_mode='binary',\n",
    "                                         target_size=(50,50),\n",
    "                                         shuffle=True, batch_size=80) "
   ]
  },
  {
   "cell_type": "markdown",
   "id": "ed7a270c",
   "metadata": {},
   "source": [
    "#### Building Model"
   ]
  },
  {
   "cell_type": "code",
   "execution_count": 11,
   "id": "a572ee81",
   "metadata": {},
   "outputs": [],
   "source": [
    "inp = Input(shape = (50, 50, 3))\n",
    "x = Conv2D(filters = 16 , kernel_size=(3, 3), padding='SAME', activation='relu', input_shape=(50, 50, 3))(inp)\n",
    "x = Conv2D(16 , (3,3), padding = \"same\", activation='relu')(x)\n",
    "x = Conv2D(16 , (3,3), padding = \"same\", activation='relu')(x)\n",
    "x = BatchNormalization(momentum=0.9)(x)\n",
    "x = MaxPool2D(pool_size=(2, 2))(x)\n",
    "x = Conv2D(16, (3,3), padding = \"same\", activation='relu')(x)\n",
    "x = Dropout(rate=0.3)(x)\n",
    "\n",
    "\n",
    "x = Conv2D(filters = 32 , kernel_size=(3, 3), padding='SAME', activation='relu')(x)\n",
    "x = Conv2D(32 , (3,3), padding = \"same\", activation='relu')(x)\n",
    "x = Conv2D(32 , (3,3), padding = \"same\", activation='relu')(x)\n",
    "x = BatchNormalization(momentum=0.5)(x)\n",
    "x = MaxPool2D(pool_size=(2, 2))(x)\n",
    "x = Conv2D(32, (3,3), padding = \"same\", activation='relu')(x)\n",
    "x = Dropout(rate=0.4)(x)\n",
    "\n",
    "x = Conv2D(filters = 64 , kernel_size=(3, 3), padding='SAME', activation='relu')(x)\n",
    "x = Conv2D(64 , (3,3), padding = \"same\", activation='relu')(x)\n",
    "x = Conv2D(64 , (3,3), padding = \"same\", activation='relu')(x)\n",
    "x = BatchNormalization()(x)\n",
    "x = MaxPool2D(pool_size=(2, 2))(x)\n",
    "x = Conv2D(64, (3,3), padding = \"same\", activation='relu')(x)\n",
    "\n",
    "x = Conv2D(filters = 128 , kernel_size=(3, 3), padding='SAME', activation='relu')(x)\n",
    "x = Conv2D(128 , (3,3), padding = \"same\", activation='relu')(x)\n",
    "x = Conv2D(128 , (3,3), padding = \"same\", activation='relu')(x)\n",
    "x = BatchNormalization()(x)\n",
    "x = MaxPool2D(pool_size=(2, 2))(x)\n",
    "\n",
    "x = Conv2D(128, (3,3), padding = \"same\", activation='relu')(x)\n",
    "x = Conv2D(filters = 128 , kernel_size=(3, 3), padding='SAME', activation='relu')(x)\n",
    "x = Conv2D(128 , (3,3), padding = \"same\", activation='relu')(x)\n",
    "x = Flatten()(x)\n",
    "\n",
    "x = Dense(256 , activation = 'relu')(x) \n",
    "x = Dense(128 , activation = 'relu')(x) \n",
    "x = Dense(32 , activation = 'relu')(x) \n",
    "out = Dense(1 , activation = 'sigmoid')(x)\n",
    "model = Model(inputs=inp, outputs=[out])"
   ]
  },
  {
   "cell_type": "code",
   "execution_count": 12,
   "id": "c3f86efb",
   "metadata": {},
   "outputs": [
    {
     "name": "stdout",
     "output_type": "stream",
     "text": [
      "Model: \"model\"\n",
      "_________________________________________________________________\n",
      " Layer (type)                Output Shape              Param #   \n",
      "=================================================================\n",
      " input_2 (InputLayer)        [(None, 50, 50, 3)]       0         \n",
      "                                                                 \n",
      " conv2d_18 (Conv2D)          (None, 50, 50, 16)        448       \n",
      "                                                                 \n",
      " conv2d_19 (Conv2D)          (None, 50, 50, 16)        2320      \n",
      "                                                                 \n",
      " conv2d_20 (Conv2D)          (None, 50, 50, 16)        2320      \n",
      "                                                                 \n",
      " batch_normalization_4 (Batc  (None, 50, 50, 16)       64        \n",
      " hNormalization)                                                 \n",
      "                                                                 \n",
      " max_pooling2d_4 (MaxPooling  (None, 25, 25, 16)       0         \n",
      " 2D)                                                             \n",
      "                                                                 \n",
      " conv2d_21 (Conv2D)          (None, 25, 25, 16)        2320      \n",
      "                                                                 \n",
      " dropout_2 (Dropout)         (None, 25, 25, 16)        0         \n",
      "                                                                 \n",
      " conv2d_22 (Conv2D)          (None, 25, 25, 32)        4640      \n",
      "                                                                 \n",
      " conv2d_23 (Conv2D)          (None, 25, 25, 32)        9248      \n",
      "                                                                 \n",
      " conv2d_24 (Conv2D)          (None, 25, 25, 32)        9248      \n",
      "                                                                 \n",
      " batch_normalization_5 (Batc  (None, 25, 25, 32)       128       \n",
      " hNormalization)                                                 \n",
      "                                                                 \n",
      " max_pooling2d_5 (MaxPooling  (None, 12, 12, 32)       0         \n",
      " 2D)                                                             \n",
      "                                                                 \n",
      " conv2d_25 (Conv2D)          (None, 12, 12, 32)        9248      \n",
      "                                                                 \n",
      " dropout_3 (Dropout)         (None, 12, 12, 32)        0         \n",
      "                                                                 \n",
      " conv2d_26 (Conv2D)          (None, 12, 12, 64)        18496     \n",
      "                                                                 \n",
      " conv2d_27 (Conv2D)          (None, 12, 12, 64)        36928     \n",
      "                                                                 \n",
      " conv2d_28 (Conv2D)          (None, 12, 12, 64)        36928     \n",
      "                                                                 \n",
      " batch_normalization_6 (Batc  (None, 12, 12, 64)       256       \n",
      " hNormalization)                                                 \n",
      "                                                                 \n",
      " max_pooling2d_6 (MaxPooling  (None, 6, 6, 64)         0         \n",
      " 2D)                                                             \n",
      "                                                                 \n",
      " conv2d_29 (Conv2D)          (None, 6, 6, 64)          36928     \n",
      "                                                                 \n",
      " conv2d_30 (Conv2D)          (None, 6, 6, 128)         73856     \n",
      "                                                                 \n",
      " conv2d_31 (Conv2D)          (None, 6, 6, 128)         147584    \n",
      "                                                                 \n",
      " conv2d_32 (Conv2D)          (None, 6, 6, 128)         147584    \n",
      "                                                                 \n",
      " batch_normalization_7 (Batc  (None, 6, 6, 128)        512       \n",
      " hNormalization)                                                 \n",
      "                                                                 \n",
      " max_pooling2d_7 (MaxPooling  (None, 3, 3, 128)        0         \n",
      " 2D)                                                             \n",
      "                                                                 \n",
      " conv2d_33 (Conv2D)          (None, 3, 3, 128)         147584    \n",
      "                                                                 \n",
      " conv2d_34 (Conv2D)          (None, 3, 3, 128)         147584    \n",
      "                                                                 \n",
      " conv2d_35 (Conv2D)          (None, 3, 3, 128)         147584    \n",
      "                                                                 \n",
      " flatten_1 (Flatten)         (None, 1152)              0         \n",
      "                                                                 \n",
      " dense_4 (Dense)             (None, 256)               295168    \n",
      "                                                                 \n",
      " dense_5 (Dense)             (None, 128)               32896     \n",
      "                                                                 \n",
      " dense_6 (Dense)             (None, 32)                4128      \n",
      "                                                                 \n",
      " dense_7 (Dense)             (None, 1)                 33        \n",
      "                                                                 \n",
      "=================================================================\n",
      "Total params: 1,314,033\n",
      "Trainable params: 1,313,553\n",
      "Non-trainable params: 480\n",
      "_________________________________________________________________\n"
     ]
    }
   ],
   "source": [
    "model.summary()"
   ]
  },
  {
   "cell_type": "code",
   "execution_count": 13,
   "id": "e26d5df7",
   "metadata": {},
   "outputs": [
    {
     "data": {
      "text/plain": [
       "''"
      ]
     },
     "execution_count": 13,
     "metadata": {},
     "output_type": "execute_result"
    }
   ],
   "source": [
    "tf.test.gpu_device_name()"
   ]
  },
  {
   "cell_type": "code",
   "execution_count": null,
   "id": "70213161",
   "metadata": {},
   "outputs": [
    {
     "name": "stdout",
     "output_type": "stream",
     "text": [
      "Epoch 1/15\n",
      "588/588 [==============================] - 636s 1s/step - loss: 0.3274 - accuracy: 0.8525 - val_loss: 0.3245 - val_accuracy: 0.8758\n",
      "Epoch 2/15\n",
      "588/588 [==============================] - 428s 728ms/step - loss: 0.1823 - accuracy: 0.9329 - val_loss: 0.1345 - val_accuracy: 0.9522\n",
      "Epoch 3/15\n",
      "588/588 [==============================] - 779s 1s/step - loss: 0.1625 - accuracy: 0.9411 - val_loss: 0.1688 - val_accuracy: 0.9343\n",
      "Epoch 4/15\n",
      "588/588 [==============================] - ETA: 0s - loss: 0.1481 - accuracy: 0.9472"
     ]
    }
   ],
   "source": [
    "cbs = [EarlyStopping(patience=3, restore_best_weights=True),\n",
    "       ModelCheckpoint(filepath = \"ModelCheckpoint.h5\",\n",
    "                       monitor= \"val_loss\",\n",
    "                       save_best_only = True)]\n",
    "opt = tf.keras.optimizers.Adam(learning_rate=0.001)\n",
    "model.compile(loss='binary_crossentropy', optimizer=opt, metrics=['accuracy'])\n",
    "history = model.fit(train_ds, validation_data=valid_ds,\n",
    "                    callbacks=cbs, epochs=15)"
   ]
  },
  {
   "cell_type": "code",
   "execution_count": null,
   "id": "1807c26d",
   "metadata": {},
   "outputs": [],
   "source": [
    "acc = history.history['accuracy']\n",
    "val_acc = history.history['val_accuracy']\n",
    "loss = history.history['loss']\n",
    "val_loss = history.history['val_loss']\n",
    "plt.plot(acc,  label='Training acc')\n",
    "plt.plot(val_acc,  label='Validation acc')\n",
    "plt.title('Training and validation accuracy')\n",
    "plt.legend()\n",
    "plt.figure()\n",
    "\n",
    "plt.plot(loss,  label='Training loss')\n",
    "plt.plot( val_loss,  label='Validation loss')\n",
    "plt.title('Training and validation loss')\n",
    "plt.legend()\n",
    "plt.figure()"
   ]
  },
  {
   "cell_type": "code",
   "execution_count": null,
   "id": "8e8fea0b",
   "metadata": {},
   "outputs": [
    {
     "ename": "",
     "evalue": "",
     "output_type": "error",
     "traceback": [
      "\u001b[1;31mRunning cells with 'c:\\Program Files\\Python310\\python.exe' requires the ipykernel package.\n",
      "\u001b[1;31mRun the following command to install 'ipykernel' into the Python environment. \n",
      "\u001b[1;31mCommand: '\"c:/Program Files/Python310/python.exe\" -m pip install ipykernel -U --user --force-reinstall'"
     ]
    }
   ],
   "source": [
    "model.save('../models/model.h5')"
   ]
  },
  {
   "cell_type": "code",
   "execution_count": null,
   "id": "41ecf783",
   "metadata": {},
   "outputs": [],
   "source": [
    "from tensorflow import keras\n",
    "model = keras.models.load_model('path/to/location')"
   ]
  }
 ],
 "metadata": {
  "kernelspec": {
   "display_name": "Python 3 (ipykernel)",
   "language": "python",
   "name": "python3"
  },
  "language_info": {
   "codemirror_mode": {
    "name": "ipython",
    "version": 3
   },
   "file_extension": ".py",
   "mimetype": "text/x-python",
   "name": "python",
   "nbconvert_exporter": "python",
   "pygments_lexer": "ipython3",
   "version": "3.10.2"
  }
 },
 "nbformat": 4,
 "nbformat_minor": 5
}
